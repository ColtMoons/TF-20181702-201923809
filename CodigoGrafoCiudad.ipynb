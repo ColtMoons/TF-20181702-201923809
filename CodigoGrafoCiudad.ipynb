{
  "nbformat": 4,
  "nbformat_minor": 0,
  "metadata": {
    "colab": {
      "name": "Generador de grafos ciudad.ipynb",
      "provenance": []
    },
    "kernelspec": {
      "name": "python3",
      "display_name": "Python 3"
    },
    "language_info": {
      "name": "python"
    }
  },
  "cells": [
    {
      "cell_type": "code",
      "execution_count": 30,
      "metadata": {
        "id": "5HWIjGNqt_4D"
      },
      "outputs": [],
      "source": [
        "import random\n",
        "\n",
        "class Point:\n",
        "    def __init__(self,x,y,ide) -> None:\n",
        "        self.x = x\n",
        "        self.y = y\n",
        "        self.id = ide\n",
        "    def getID(self):\n",
        "        return self.id\n",
        "    def getX(self):\n",
        "        return self.x\n",
        "    def getY(self):\n",
        "        return self.y\n",
        "\n",
        "points = []\n",
        "id = 0\n",
        "\n",
        "for i in range(40):\n",
        "    for j in range(40):\n",
        "        points.append((id,i, j))\n",
        "        id+=1\n",
        "\n",
        "random.shuffle(points)\n",
        "\n",
        "with open(\"Nodos.csv\", 'w') as f:\n",
        "    f.write(\"id,x,y\\n\")\n",
        "    for i in points:\n",
        "      if random.randint(1,100) == 1:\n",
        "        f.write(str(i[0]) + \",\"+ str(-1) + \",\" + str(-1) + \"\\n\")\n",
        "      else:\n",
        "        f.write(str(i[0]) + \",\"+ str(i[1]) + \",\" + str(i[2]) + \"\\n\")\n",
        "\n",
        "def readNodes(filename):\n",
        "    with open(filename) as file:\n",
        "        lines = file.readlines()\n",
        "        lines.pop(0)\n",
        "        arr = []\n",
        "        for l in lines:\n",
        "            lista = l.strip().split(sep=\",\")\n",
        "            arr.append(Point(int(lista[1]),int(lista[2]),int(lista[0])))\n",
        "    return arr\n",
        "\n",
        "def createGrah(n):\n",
        "    g=[[] for _ in range(len(n))]\n",
        "    for i in range(len(n)):\n",
        "        if  n[i].getID()-1 >= 0 and n[i].getID() % 1000!=0:\n",
        "            g[i].append(((n[i].getID()-1),10))\n",
        "        if n[i].getID()+1 < len(n) and n[i].getID() % 1000 != 999:\n",
        "            g[i].append(((n[i].getID()+1),10))\n",
        "        if n[i].getID()+1000<len(n):\n",
        "            g[i].append(((n[i].getID()+1000),15))\n",
        "        if n[i].getID()-1000 >= 0:\n",
        "            g[i].append(((n[i].getID()-1000),15))\n",
        "    return g\n",
        "\n",
        "nodos= readNodes(\"Nodos.csv\")\n",
        "grafo=createGrah(nodos)"
      ]
    },
    {
      "cell_type": "code",
      "source": [
        "def distancia(n):\n",
        "    g=[[] for _ in range(len(n))]\n",
        "    for i in range(len(n)):\n",
        "      for j in range(len(n)-1):\n",
        "        if  n[i].getY() == n[j].getY():\n",
        "            g[i].append(((n[j].getID(),abs(n[i].getX()-n[j].getX()))))\n",
        "        if n[i].getX() == n[j].getX():\n",
        "            g[i].append(((n[j].getID(),abs(n[i].getY()-n[j].getY()))))\n",
        "    return g\n",
        "\n",
        "nodos= readNodes(\"Nodos.csv\")\n",
        "dist=distancia(nodos)"
      ],
      "metadata": {
        "id": "U1x1njx2N-Fp"
      },
      "execution_count": 40,
      "outputs": []
    },
    {
      "cell_type": "code",
      "source": [
        "for i in dist:\n",
        "  print(i)"
      ],
      "metadata": {
        "id": "p7_SsFifQ46x"
      },
      "execution_count": null,
      "outputs": []
    },
    {
      "cell_type": "code",
      "source": [
        "for i in grafo:\n",
        "  print(i)"
      ],
      "metadata": {
        "id": "ZmPDpa0PupcB"
      },
      "execution_count": null,
      "outputs": []
    }
  ]
}