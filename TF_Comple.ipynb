{
  "nbformat": 4,
  "nbformat_minor": 0,
  "metadata": {
    "colab": {
      "name": "TF-Comple.ipynb",
      "provenance": [],
      "collapsed_sections": [],
      "toc_visible": true
    },
    "kernelspec": {
      "name": "python3",
      "display_name": "Python 3"
    },
    "language_info": {
      "name": "python"
    }
  },
  "cells": [
    {
      "cell_type": "code",
      "execution_count": null,
      "metadata": {
        "id": "sgC6aRwRoRKa"
      },
      "outputs": [],
      "source": [
        "import heapq as hq\n",
        "import numpy as np\n",
        "import graphviz as gv\n",
        "import math"
      ]
    },
    {
      "cell_type": "code",
      "source": [
        "def drawG_al(G, directed=False, weighted=False, path=[], layout=\"sfdp\"):\n",
        "  graph = gv.Digraph(\"directed\") if directed else gv.Graph(\"undirected\")\n",
        "  graph.graph_attr[\"layout\"] = layout\n",
        "  graph.edge_attr[\"color\"] = \"gray\"\n",
        "  graph.node_attr[\"color\"] = \"orangered\"\n",
        "  graph.node_attr[\"width\"] = \"0.1\"\n",
        "  graph.node_attr[\"height\"] = \"0.1\"\n",
        "  graph.node_attr[\"fontsize\"] = \"8\"\n",
        "  graph.node_attr[\"fontcolor\"] = \"mediumslateblue\"\n",
        "  graph.node_attr[\"fontname\"] = \"monospace\"\n",
        "  graph.edge_attr[\"fontsize\"] = \"8\"\n",
        "  graph.edge_attr[\"fontname\"] = \"monospace\"\n",
        "  n = len(G)\n",
        "  added = set()\n",
        "  for v, u in enumerate(path):\n",
        "    if u != -1:\n",
        "      if weighted:\n",
        "        for vi, w in G[u]:\n",
        "          if vi == v:\n",
        "            break\n",
        "        graph.edge(str(u), str(v), str(w), dir=\"forward\", penwidth=\"2\", color=\"orange\")\n",
        "      else:\n",
        "        graph.edge(str(u), str(v), dir=\"forward\", penwidth=\"2\", color=\"orange\")\n",
        "      added.add(f\"{u},{v}\")\n",
        "      added.add(f\"{v},{u}\")\n",
        "  for u in range(n):\n",
        "    for v, w in G[u]:\n",
        "      draw = False\n",
        "      if not directed and not f\"{u},{v}\" in added:  \n",
        "        added.add(f\"{u},{v}\")\n",
        "        added.add(f\"{v},{u}\")\n",
        "        draw = True\n",
        "      elif directed:\n",
        "        draw = True\n",
        "      if draw:\n",
        "        if weighted:\n",
        "          graph.edge(str(u), str(v), str(w))\n",
        "        else:\n",
        "          graph.edge(str(u), str(v))\n",
        "  return graph"
      ],
      "metadata": {
        "id": "ZZir3EZJyf3q"
      },
      "execution_count": null,
      "outputs": []
    },
    {
      "cell_type": "code",
      "source": [
        "callesH = 5\n",
        "callesV = 4\n",
        "ids = []\n",
        "cont = 0\n",
        "\n",
        "def getCuadras(callesH, callesV):\n",
        "  cuadras = (callesH - 1) * callesV + (callesV - 1) * callesH\n",
        "  return cuadras\n",
        "\n",
        "for i in range(callesH):\n",
        "    tmp = []\n",
        "    aux = []\n",
        "    for j in range(callesV):\n",
        "        tmp.append(cont)\n",
        "        cont += 1\n",
        "    ids.append(tmp)\n",
        "matriz = []\n",
        "cont = 0\n",
        "for i in range(len(ids)):\n",
        "    for j in range(len(ids[i])):\n",
        "        vecinos = []\n",
        "        id = ids[i][j]\n",
        "        if id - callesV >= 0:\n",
        "            vecinos.append((id - callesV, 10))\n",
        "        if id + callesV < ids[callesH - 1][callesV - 1]:\n",
        "            vecinos.append((id + callesV, 10))\n",
        "        if id % callesV != 0 and (id + 1) % callesV != 0 or (id + 1) % callesV != 0 and id % callesV != 0:\n",
        "            vecinos.append((id - 1, 20))\n",
        "            vecinos.append((id + 1, 20))\n",
        "        else:\n",
        "            if id % callesV == 0:\n",
        "                vecinos.append((id + 1, 20))\n",
        "            elif (id + 1) % callesV == 0:\n",
        "                vecinos.append((id - 1, 20))\n",
        "        vecinos.sort()\n",
        "        matriz.append(vecinos)\n",
        "adyacencia = []\n",
        "for i in matriz:\n",
        "    aux = []\n",
        "    for j in range(callesV * callesH):\n",
        "        if j in i:\n",
        "            aux.append(0)\n",
        "        else: aux.append(10)\n",
        "    adyacencia.append(aux)\n",
        "\n",
        "with open('grafoPrueba.al', mode='w') as file:\n",
        "  for i in matriz:\n",
        "    for j in i:\n",
        "      file.write(str(str(j[0]) + ' ' + str(j[1]) + ' '))\n",
        "    file.write('\\n')\n",
        "\n"
      ],
      "metadata": {
        "id": "kglK9rZXyju_"
      },
      "execution_count": null,
      "outputs": []
    },
    {
      "cell_type": "code",
      "source": [
        "for i in ids:\n",
        "  print(i)"
      ],
      "metadata": {
        "id": "Q6WjvQgRHaPF",
        "colab": {
          "base_uri": "https://localhost:8080/"
        },
        "outputId": "41eba5a7-754b-45a0-8e3b-39534ba05ec0"
      },
      "execution_count": null,
      "outputs": [
        {
          "output_type": "stream",
          "name": "stdout",
          "text": [
            "[0, 1, 2, 3]\n",
            "[4, 5, 6, 7]\n",
            "[8, 9, 10, 11]\n",
            "[12, 13, 14, 15]\n",
            "[16, 17, 18, 19]\n"
          ]
        }
      ]
    },
    {
      "cell_type": "code",
      "source": [
        "G = []\n",
        "with open(\"grafoPrueba.al\") as f:\n",
        "  for line in f:\n",
        "    nums = [int(x) for x in line.split()]\n",
        "    G.append([])\n",
        "    for i in range(0, len(nums), 2):\n",
        "      G[-1].append((nums[i], nums[i+1]))\n",
        "\n",
        "for x in G:\n",
        "  print(x)"
      ],
      "metadata": {
        "id": "5bxjk8tI75gb",
        "colab": {
          "base_uri": "https://localhost:8080/"
        },
        "outputId": "56583f23-e9d2-4c0d-af92-5c3fc28b927a"
      },
      "execution_count": null,
      "outputs": [
        {
          "output_type": "stream",
          "name": "stdout",
          "text": [
            "[(1, 20), (4, 10)]\n",
            "[(0, 20), (2, 20), (5, 10)]\n",
            "[(1, 20), (3, 20), (6, 10)]\n",
            "[(2, 20), (7, 10)]\n",
            "[(0, 10), (5, 20), (8, 10)]\n",
            "[(1, 10), (4, 20), (6, 20), (9, 10)]\n",
            "[(2, 10), (5, 20), (7, 20), (10, 10)]\n",
            "[(3, 10), (6, 20), (11, 10)]\n",
            "[(4, 10), (9, 20), (12, 10)]\n",
            "[(5, 10), (8, 20), (10, 20), (13, 10)]\n",
            "[(6, 10), (9, 20), (11, 20), (14, 10)]\n",
            "[(7, 10), (10, 20), (15, 10)]\n",
            "[(8, 10), (13, 20), (16, 10)]\n",
            "[(9, 10), (12, 20), (14, 20), (17, 10)]\n",
            "[(10, 10), (13, 20), (15, 20), (18, 10)]\n",
            "[(11, 10), (14, 20)]\n",
            "[(12, 10), (17, 20)]\n",
            "[(13, 10), (16, 20), (18, 20)]\n",
            "[(14, 10), (17, 20), (19, 20)]\n",
            "[(15, 10), (18, 20)]\n"
          ]
        }
      ]
    },
    {
      "cell_type": "code",
      "source": [
        "drawG_al(matriz, weighted=True)"
      ],
      "metadata": {
        "colab": {
          "base_uri": "https://localhost:8080/",
          "height": 412
        },
        "id": "3SmtTslHyyBQ",
        "outputId": "43cd11ed-de67-4325-9d32-65b347525de9"
      },
      "execution_count": null,
      "outputs": [
        {
          "output_type": "execute_result",
          "data": {
            "text/plain": [
              "<graphviz.dot.Graph at 0x7fb3ece41a90>"
            ],
            "image/svg+xml": "<?xml version=\"1.0\" encoding=\"UTF-8\" standalone=\"no\"?>\n<!DOCTYPE svg PUBLIC \"-//W3C//DTD SVG 1.1//EN\"\n \"http://www.w3.org/Graphics/SVG/1.1/DTD/svg11.dtd\">\n<!-- Generated by graphviz version 2.40.1 (20161225.0304)\n -->\n<!-- Title: undirected Pages: 1 -->\n<svg width=\"417pt\" height=\"293pt\"\n viewBox=\"0.00 0.00 416.83 292.95\" xmlns=\"http://www.w3.org/2000/svg\" xmlns:xlink=\"http://www.w3.org/1999/xlink\">\n<g id=\"graph0\" class=\"graph\" transform=\"scale(1 1) rotate(0) translate(4 288.9466)\">\n<title>undirected</title>\n<polygon fill=\"#ffffff\" stroke=\"transparent\" points=\"-4,4 -4,-288.9466 412.8251,-288.9466 412.8251,4 -4,4\"/>\n<!-- 0 -->\n<g id=\"node1\" class=\"node\">\n<title>0</title>\n<ellipse fill=\"none\" stroke=\"#ff4500\" cx=\"20.0498\" cy=\"-266.8058\" rx=\"15.6129\" ry=\"12.0417\"/>\n<text text-anchor=\"middle\" x=\"20.0498\" y=\"-264.9058\" font-family=\"monospace\" font-size=\"8.00\" fill=\"#7b68ee\">0</text>\n</g>\n<!-- 1 -->\n<g id=\"node2\" class=\"node\">\n<title>1</title>\n<ellipse fill=\"none\" stroke=\"#ff4500\" cx=\"15.5563\" cy=\"-187.4679\" rx=\"15.6129\" ry=\"12.0417\"/>\n<text text-anchor=\"middle\" x=\"15.5563\" y=\"-185.5679\" font-family=\"monospace\" font-size=\"8.00\" fill=\"#7b68ee\">1</text>\n</g>\n<!-- 0&#45;&#45;1 -->\n<g id=\"edge1\" class=\"edge\">\n<title>0&#45;&#45;1</title>\n<path fill=\"none\" stroke=\"#c0c0c0\" d=\"M19.3673,-254.7561C18.5227,-239.8441 17.0927,-214.5951 16.2452,-199.631\"/>\n<text text-anchor=\"middle\" x=\"12.3063\" y=\"-229.7935\" font-family=\"monospace\" font-size=\"8.00\" fill=\"#000000\">20</text>\n</g>\n<!-- 4 -->\n<g id=\"node3\" class=\"node\">\n<title>4</title>\n<ellipse fill=\"none\" stroke=\"#ff4500\" cx=\"103.418\" cy=\"-271.468\" rx=\"15.6129\" ry=\"12.0417\"/>\n<text text-anchor=\"middle\" x=\"103.418\" y=\"-269.568\" font-family=\"monospace\" font-size=\"8.00\" fill=\"#7b68ee\">4</text>\n</g>\n<!-- 0&#45;&#45;4 -->\n<g id=\"edge2\" class=\"edge\">\n<title>0&#45;&#45;4</title>\n<path fill=\"none\" stroke=\"#c0c0c0\" d=\"M35.7307,-267.6827C50.6356,-268.5163 72.9258,-269.7628 87.8074,-270.595\"/>\n<text text-anchor=\"middle\" x=\"56.2691\" y=\"-271.7389\" font-family=\"monospace\" font-size=\"8.00\" fill=\"#000000\">10</text>\n</g>\n<!-- 2 -->\n<g id=\"node4\" class=\"node\">\n<title>2</title>\n<ellipse fill=\"none\" stroke=\"#ff4500\" cx=\"15.7818\" cy=\"-97.3909\" rx=\"15.6129\" ry=\"12.0417\"/>\n<text text-anchor=\"middle\" x=\"15.7818\" y=\"-95.4909\" font-family=\"monospace\" font-size=\"8.00\" fill=\"#7b68ee\">2</text>\n</g>\n<!-- 1&#45;&#45;2 -->\n<g id=\"edge3\" class=\"edge\">\n<title>1&#45;&#45;2</title>\n<path fill=\"none\" stroke=\"#c0c0c0\" d=\"M15.5868,-175.3197C15.6298,-158.1279 15.708,-126.8778 15.7512,-109.6343\"/>\n<text text-anchor=\"middle\" x=\"10.169\" y=\"-145.077\" font-family=\"monospace\" font-size=\"8.00\" fill=\"#000000\">20</text>\n</g>\n<!-- 5 -->\n<g id=\"node5\" class=\"node\">\n<title>5</title>\n<ellipse fill=\"none\" stroke=\"#ff4500\" cx=\"101.3338\" cy=\"-189.2158\" rx=\"15.6129\" ry=\"12.0417\"/>\n<text text-anchor=\"middle\" x=\"101.3338\" y=\"-187.3158\" font-family=\"monospace\" font-size=\"8.00\" fill=\"#7b68ee\">5</text>\n</g>\n<!-- 1&#45;&#45;5 -->\n<g id=\"edge4\" class=\"edge\">\n<title>1&#45;&#45;5</title>\n<path fill=\"none\" stroke=\"#c0c0c0\" d=\"M31.2893,-187.7885C46.7663,-188.1038 70.2582,-188.5825 85.7006,-188.8972\"/>\n<text text-anchor=\"middle\" x=\"52.9949\" y=\"-190.9428\" font-family=\"monospace\" font-size=\"8.00\" fill=\"#000000\">10</text>\n</g>\n<!-- 4&#45;&#45;5 -->\n<g id=\"edge8\" class=\"edge\">\n<title>4&#45;&#45;5</title>\n<path fill=\"none\" stroke=\"#c0c0c0\" d=\"M103.1105,-259.3314C102.7164,-243.7803 102.0373,-216.9773 101.6426,-201.4022\"/>\n<text text-anchor=\"middle\" x=\"96.8766\" y=\"-232.9668\" font-family=\"monospace\" font-size=\"8.00\" fill=\"#000000\">20</text>\n</g>\n<!-- 8 -->\n<g id=\"node9\" class=\"node\">\n<title>8</title>\n<ellipse fill=\"none\" stroke=\"#ff4500\" cx=\"202.8202\" cy=\"-272.9257\" rx=\"15.6129\" ry=\"12.0417\"/>\n<text text-anchor=\"middle\" x=\"202.8202\" y=\"-271.0257\" font-family=\"monospace\" font-size=\"8.00\" fill=\"#7b68ee\">8</text>\n</g>\n<!-- 4&#45;&#45;8 -->\n<g id=\"edge9\" class=\"edge\">\n<title>4&#45;&#45;8</title>\n<path fill=\"none\" stroke=\"#c0c0c0\" d=\"M119.3887,-271.7022C138.048,-271.9759 168.7169,-272.4256 187.2168,-272.6969\"/>\n<text text-anchor=\"middle\" x=\"147.8028\" y=\"-274.7996\" font-family=\"monospace\" font-size=\"8.00\" fill=\"#000000\">10</text>\n</g>\n<!-- 3 -->\n<g id=\"node6\" class=\"node\">\n<title>3</title>\n<ellipse fill=\"none\" stroke=\"#ff4500\" cx=\"19.6991\" cy=\"-18.1728\" rx=\"15.6129\" ry=\"12.0417\"/>\n<text text-anchor=\"middle\" x=\"19.6991\" y=\"-16.2728\" font-family=\"monospace\" font-size=\"8.00\" fill=\"#7b68ee\">3</text>\n</g>\n<!-- 2&#45;&#45;3 -->\n<g id=\"edge5\" class=\"edge\">\n<title>2&#45;&#45;3</title>\n<path fill=\"none\" stroke=\"#c0c0c0\" d=\"M16.3768,-85.3594C17.113,-70.4699 18.3597,-45.2591 19.0985,-30.3176\"/>\n<text text-anchor=\"middle\" x=\"12.2377\" y=\"-60.4385\" font-family=\"monospace\" font-size=\"8.00\" fill=\"#000000\">20</text>\n</g>\n<!-- 6 -->\n<g id=\"node7\" class=\"node\">\n<title>6</title>\n<ellipse fill=\"none\" stroke=\"#ff4500\" cx=\"101.2225\" cy=\"-95.8005\" rx=\"15.6129\" ry=\"12.0417\"/>\n<text text-anchor=\"middle\" x=\"101.2225\" y=\"-93.9005\" font-family=\"monospace\" font-size=\"8.00\" fill=\"#7b68ee\">6</text>\n</g>\n<!-- 2&#45;&#45;6 -->\n<g id=\"edge6\" class=\"edge\">\n<title>2&#45;&#45;6</title>\n<path fill=\"none\" stroke=\"#c0c0c0\" d=\"M31.4529,-97.0992C46.8692,-96.8122 70.2688,-96.3767 85.6507,-96.0904\"/>\n<text text-anchor=\"middle\" x=\"53.0518\" y=\"-99.1948\" font-family=\"monospace\" font-size=\"8.00\" fill=\"#000000\">10</text>\n</g>\n<!-- 5&#45;&#45;6 -->\n<g id=\"edge10\" class=\"edge\">\n<title>5&#45;&#45;6</title>\n<path fill=\"none\" stroke=\"#c0c0c0\" d=\"M101.3193,-177.0034C101.2979,-159.1004 101.2584,-125.9206 101.237,-108.0159\"/>\n<text text-anchor=\"middle\" x=\"95.7781\" y=\"-145.1097\" font-family=\"monospace\" font-size=\"8.00\" fill=\"#000000\">20</text>\n</g>\n<!-- 9 -->\n<g id=\"node10\" class=\"node\">\n<title>9</title>\n<ellipse fill=\"none\" stroke=\"#ff4500\" cx=\"202.652\" cy=\"-190.015\" rx=\"15.6129\" ry=\"12.0417\"/>\n<text text-anchor=\"middle\" x=\"202.652\" y=\"-188.115\" font-family=\"monospace\" font-size=\"8.00\" fill=\"#7b68ee\">9</text>\n</g>\n<!-- 5&#45;&#45;9 -->\n<g id=\"edge11\" class=\"edge\">\n<title>5&#45;&#45;9</title>\n<path fill=\"none\" stroke=\"#c0c0c0\" d=\"M117.1648,-189.3407C136.199,-189.4908 167.9476,-189.7412 186.9322,-189.891\"/>\n<text text-anchor=\"middle\" x=\"146.5485\" y=\"-192.2158\" font-family=\"monospace\" font-size=\"8.00\" fill=\"#000000\">10</text>\n</g>\n<!-- 7 -->\n<g id=\"node8\" class=\"node\">\n<title>7</title>\n<ellipse fill=\"none\" stroke=\"#ff4500\" cx=\"103.5092\" cy=\"-13.5601\" rx=\"15.6129\" ry=\"12.0417\"/>\n<text text-anchor=\"middle\" x=\"103.5092\" y=\"-11.6601\" font-family=\"monospace\" font-size=\"8.00\" fill=\"#7b68ee\">7</text>\n</g>\n<!-- 3&#45;&#45;7 -->\n<g id=\"edge7\" class=\"edge\">\n<title>3&#45;&#45;7</title>\n<path fill=\"none\" stroke=\"#c0c0c0\" d=\"M35.4631,-17.3052C50.4471,-16.4805 72.8553,-15.2472 87.8159,-14.4238\"/>\n<text text-anchor=\"middle\" x=\"56.1395\" y=\"-18.4645\" font-family=\"monospace\" font-size=\"8.00\" fill=\"#000000\">10</text>\n</g>\n<!-- 6&#45;&#45;7 -->\n<g id=\"edge12\" class=\"edge\">\n<title>6&#45;&#45;7</title>\n<path fill=\"none\" stroke=\"#c0c0c0\" d=\"M101.5599,-83.6657C101.9922,-68.1168 102.7374,-41.3176 103.1704,-25.7447\"/>\n<text text-anchor=\"middle\" x=\"96.8651\" y=\"-57.3052\" font-family=\"monospace\" font-size=\"8.00\" fill=\"#000000\">20</text>\n</g>\n<!-- 10 -->\n<g id=\"node11\" class=\"node\">\n<title>10</title>\n<ellipse fill=\"none\" stroke=\"#ff4500\" cx=\"202.6767\" cy=\"-95.1822\" rx=\"19.1842\" ry=\"12.0417\"/>\n<text text-anchor=\"middle\" x=\"202.6767\" y=\"-93.2822\" font-family=\"monospace\" font-size=\"8.00\" fill=\"#7b68ee\">10</text>\n</g>\n<!-- 6&#45;&#45;10 -->\n<g id=\"edge13\" class=\"edge\">\n<title>6&#45;&#45;10</title>\n<path fill=\"none\" stroke=\"#c0c0c0\" d=\"M117.0747,-95.7039C135.0199,-95.5945 164.251,-95.4164 183.4746,-95.2992\"/>\n<text text-anchor=\"middle\" x=\"144.7747\" y=\"-98.1016\" font-family=\"monospace\" font-size=\"8.00\" fill=\"#000000\">10</text>\n</g>\n<!-- 11 -->\n<g id=\"node12\" class=\"node\">\n<title>11</title>\n<ellipse fill=\"none\" stroke=\"#ff4500\" cx=\"202.6979\" cy=\"-12.0208\" rx=\"19.1842\" ry=\"12.0417\"/>\n<text text-anchor=\"middle\" x=\"202.6979\" y=\"-10.1208\" font-family=\"monospace\" font-size=\"8.00\" fill=\"#7b68ee\">11</text>\n</g>\n<!-- 7&#45;&#45;11 -->\n<g id=\"edge14\" class=\"edge\">\n<title>7&#45;&#45;11</title>\n<path fill=\"none\" stroke=\"#c0c0c0\" d=\"M119.4456,-13.3128C136.86,-13.0425 164.7577,-12.6096 183.3987,-12.3203\"/>\n<text text-anchor=\"middle\" x=\"145.9221\" y=\"-15.4165\" font-family=\"monospace\" font-size=\"8.00\" fill=\"#000000\">10</text>\n</g>\n<!-- 8&#45;&#45;9 -->\n<g id=\"edge15\" class=\"edge\">\n<title>8&#45;&#45;9</title>\n<path fill=\"none\" stroke=\"#c0c0c0\" d=\"M202.7953,-260.692C202.7635,-245.0163 202.7088,-217.9988 202.6769,-202.299\"/>\n<text text-anchor=\"middle\" x=\"197.2361\" y=\"-234.0955\" font-family=\"monospace\" font-size=\"8.00\" fill=\"#000000\">20</text>\n</g>\n<!-- 12 -->\n<g id=\"node13\" class=\"node\">\n<title>12</title>\n<ellipse fill=\"none\" stroke=\"#ff4500\" cx=\"302.0751\" cy=\"-271.5\" rx=\"19.1842\" ry=\"12.0417\"/>\n<text text-anchor=\"middle\" x=\"302.0751\" y=\"-269.6\" font-family=\"monospace\" font-size=\"8.00\" fill=\"#7b68ee\">12</text>\n</g>\n<!-- 8&#45;&#45;12 -->\n<g id=\"edge16\" class=\"edge\">\n<title>8&#45;&#45;12</title>\n<path fill=\"none\" stroke=\"#c0c0c0\" d=\"M218.7672,-272.6967C236.1933,-272.4464 264.1095,-272.0454 282.763,-271.7774\"/>\n<text text-anchor=\"middle\" x=\"245.2651\" y=\"-274.8371\" font-family=\"monospace\" font-size=\"8.00\" fill=\"#000000\">10</text>\n</g>\n<!-- 9&#45;&#45;10 -->\n<g id=\"edge17\" class=\"edge\">\n<title>9&#45;&#45;10</title>\n<path fill=\"none\" stroke=\"#c0c0c0\" d=\"M202.6552,-177.6173C202.66,-159.3422 202.6688,-125.3867 202.6735,-107.2831\"/>\n<text text-anchor=\"middle\" x=\"197.1644\" y=\"-145.0502\" font-family=\"monospace\" font-size=\"8.00\" fill=\"#000000\">20</text>\n</g>\n<!-- 13 -->\n<g id=\"node14\" class=\"node\">\n<title>13</title>\n<ellipse fill=\"none\" stroke=\"#ff4500\" cx=\"304.11\" cy=\"-189.1663\" rx=\"19.1842\" ry=\"12.0417\"/>\n<text text-anchor=\"middle\" x=\"304.11\" y=\"-187.2663\" font-family=\"monospace\" font-size=\"8.00\" fill=\"#7b68ee\">13</text>\n</g>\n<!-- 9&#45;&#45;13 -->\n<g id=\"edge18\" class=\"edge\">\n<title>9&#45;&#45;13</title>\n<path fill=\"none\" stroke=\"#c0c0c0\" d=\"M218.5048,-189.8824C236.4507,-189.7323 265.6829,-189.4877 284.9073,-189.3269\"/>\n<text text-anchor=\"middle\" x=\"246.206\" y=\"-192.2047\" font-family=\"monospace\" font-size=\"8.00\" fill=\"#000000\">10</text>\n</g>\n<!-- 10&#45;&#45;11 -->\n<g id=\"edge19\" class=\"edge\">\n<title>10&#45;&#45;11</title>\n<path fill=\"none\" stroke=\"#c0c0c0\" d=\"M202.6798,-82.9114C202.6839,-67.098 202.6908,-39.7773 202.6949,-24.0715\"/>\n<text text-anchor=\"middle\" x=\"197.1873\" y=\"-56.0915\" font-family=\"monospace\" font-size=\"8.00\" fill=\"#000000\">20</text>\n</g>\n<!-- 14 -->\n<g id=\"node15\" class=\"node\">\n<title>14</title>\n<ellipse fill=\"none\" stroke=\"#ff4500\" cx=\"304.0292\" cy=\"-95.6111\" rx=\"19.1842\" ry=\"12.0417\"/>\n<text text-anchor=\"middle\" x=\"304.0292\" y=\"-93.7111\" font-family=\"monospace\" font-size=\"8.00\" fill=\"#7b68ee\">14</text>\n</g>\n<!-- 10&#45;&#45;14 -->\n<g id=\"edge20\" class=\"edge\">\n<title>10&#45;&#45;14</title>\n<path fill=\"none\" stroke=\"#c0c0c0\" d=\"M222.2185,-95.2649C240.2807,-95.3413 266.9587,-95.4542 284.8911,-95.5301\"/>\n<text text-anchor=\"middle\" x=\"248.0548\" y=\"-97.9975\" font-family=\"monospace\" font-size=\"8.00\" fill=\"#000000\">10</text>\n</g>\n<!-- 15 -->\n<g id=\"node16\" class=\"node\">\n<title>15</title>\n<ellipse fill=\"none\" stroke=\"#ff4500\" cx=\"301.9639\" cy=\"-13.4423\" rx=\"19.1842\" ry=\"12.0417\"/>\n<text text-anchor=\"middle\" x=\"301.9639\" y=\"-11.5423\" font-family=\"monospace\" font-size=\"8.00\" fill=\"#7b68ee\">15</text>\n</g>\n<!-- 11&#45;&#45;15 -->\n<g id=\"edge21\" class=\"edge\">\n<title>11&#45;&#45;15</title>\n<path fill=\"none\" stroke=\"#c0c0c0\" d=\"M221.8374,-12.2949C239.3025,-12.545 264.9922,-12.9129 282.5445,-13.1642\"/>\n<text text-anchor=\"middle\" x=\"246.6909\" y=\"-15.3295\" font-family=\"monospace\" font-size=\"8.00\" fill=\"#000000\">10</text>\n</g>\n<!-- 12&#45;&#45;13 -->\n<g id=\"edge22\" class=\"edge\">\n<title>12&#45;&#45;13</title>\n<path fill=\"none\" stroke=\"#c0c0c0\" d=\"M302.3754,-259.3514C302.7601,-243.7849 303.4232,-216.9553 303.8085,-201.3648\"/>\n<text text-anchor=\"middle\" x=\"297.592\" y=\"-232.9581\" font-family=\"monospace\" font-size=\"8.00\" fill=\"#000000\">20</text>\n</g>\n<!-- 16 -->\n<g id=\"node17\" class=\"node\">\n<title>16</title>\n<ellipse fill=\"none\" stroke=\"#ff4500\" cx=\"385.6063\" cy=\"-266.7177\" rx=\"19.1842\" ry=\"12.0417\"/>\n<text text-anchor=\"middle\" x=\"385.6063\" y=\"-264.8177\" font-family=\"monospace\" font-size=\"8.00\" fill=\"#7b68ee\">16</text>\n</g>\n<!-- 12&#45;&#45;16 -->\n<g id=\"edge23\" class=\"edge\">\n<title>12&#45;&#45;16</title>\n<path fill=\"none\" stroke=\"#c0c0c0\" d=\"M321.4488,-270.3908C334.9435,-269.6182 352.8661,-268.5921 366.3377,-267.8208\"/>\n<text text-anchor=\"middle\" x=\"338.3932\" y=\"-271.7058\" font-family=\"monospace\" font-size=\"8.00\" fill=\"#000000\">10</text>\n</g>\n<!-- 13&#45;&#45;14 -->\n<g id=\"edge24\" class=\"edge\">\n<title>13&#45;&#45;14</title>\n<path fill=\"none\" stroke=\"#c0c0c0\" d=\"M304.0995,-176.9356C304.084,-159.0058 304.0553,-125.7763 304.0398,-107.8448\"/>\n<text text-anchor=\"middle\" x=\"298.5696\" y=\"-144.9902\" font-family=\"monospace\" font-size=\"8.00\" fill=\"#000000\">20</text>\n</g>\n<!-- 17 -->\n<g id=\"node18\" class=\"node\">\n<title>17</title>\n<ellipse fill=\"none\" stroke=\"#ff4500\" cx=\"389.7332\" cy=\"-187.3629\" rx=\"19.1842\" ry=\"12.0417\"/>\n<text text-anchor=\"middle\" x=\"389.7332\" y=\"-185.4629\" font-family=\"monospace\" font-size=\"8.00\" fill=\"#7b68ee\">17</text>\n</g>\n<!-- 13&#45;&#45;17 -->\n<g id=\"edge25\" class=\"edge\">\n<title>13&#45;&#45;17</title>\n<path fill=\"none\" stroke=\"#c0c0c0\" d=\"M323.5392,-188.7571C337.552,-188.462 356.3858,-188.0653 370.3808,-187.7705\"/>\n<text text-anchor=\"middle\" x=\"341.46\" y=\"-190.8638\" font-family=\"monospace\" font-size=\"8.00\" fill=\"#000000\">10</text>\n</g>\n<!-- 14&#45;&#45;15 -->\n<g id=\"edge26\" class=\"edge\">\n<title>14&#45;&#45;15</title>\n<path fill=\"none\" stroke=\"#c0c0c0\" d=\"M303.7244,-83.4868C303.334,-67.9514 302.6609,-41.1756 302.2699,-25.6163\"/>\n<text text-anchor=\"middle\" x=\"297.4972\" y=\"-57.1515\" font-family=\"monospace\" font-size=\"8.00\" fill=\"#000000\">20</text>\n</g>\n<!-- 18 -->\n<g id=\"node19\" class=\"node\">\n<title>18</title>\n<ellipse fill=\"none\" stroke=\"#ff4500\" cx=\"389.6923\" cy=\"-97.3563\" rx=\"19.1842\" ry=\"12.0417\"/>\n<text text-anchor=\"middle\" x=\"389.6923\" y=\"-95.4563\" font-family=\"monospace\" font-size=\"8.00\" fill=\"#7b68ee\">18</text>\n</g>\n<!-- 14&#45;&#45;18 -->\n<g id=\"edge27\" class=\"edge\">\n<title>14&#45;&#45;18</title>\n<path fill=\"none\" stroke=\"#c0c0c0\" d=\"M323.4675,-96.0071C337.4867,-96.2927 356.3293,-96.6766 370.3309,-96.9619\"/>\n<text text-anchor=\"middle\" x=\"341.3992\" y=\"-99.0845\" font-family=\"monospace\" font-size=\"8.00\" fill=\"#000000\">10</text>\n</g>\n<!-- 16&#45;&#45;17 -->\n<g id=\"edge28\" class=\"edge\">\n<title>16&#45;&#45;17</title>\n<path fill=\"none\" stroke=\"#c0c0c0\" d=\"M386.2331,-254.6654C387.0087,-239.7503 388.3221,-214.4959 389.1005,-199.5286\"/>\n<text text-anchor=\"middle\" x=\"382.1668\" y=\"-229.697\" font-family=\"monospace\" font-size=\"8.00\" fill=\"#000000\">20</text>\n</g>\n<!-- 17&#45;&#45;18 -->\n<g id=\"edge29\" class=\"edge\">\n<title>17&#45;&#45;18</title>\n<path fill=\"none\" stroke=\"#c0c0c0\" d=\"M389.7277,-175.2242C389.7199,-158.0459 389.7057,-126.8202 389.6978,-109.5901\"/>\n<text text-anchor=\"middle\" x=\"384.2127\" y=\"-145.0072\" font-family=\"monospace\" font-size=\"8.00\" fill=\"#000000\">20</text>\n</g>\n<!-- 19 -->\n<g id=\"node20\" class=\"node\">\n<title>19</title>\n<ellipse fill=\"none\" stroke=\"#ff4500\" cx=\"385.3744\" cy=\"-18.0879\" rx=\"19.1842\" ry=\"12.0417\"/>\n<text text-anchor=\"middle\" x=\"385.3744\" y=\"-16.1879\" font-family=\"monospace\" font-size=\"8.00\" fill=\"#7b68ee\">19</text>\n</g>\n<!-- 18&#45;&#45;19 -->\n<g id=\"edge30\" class=\"edge\">\n<title>18&#45;&#45;19</title>\n<path fill=\"none\" stroke=\"#c0c0c0\" d=\"M389.0365,-85.3171C388.2249,-70.4183 386.8508,-45.1914 386.0364,-30.2404\"/>\n<text text-anchor=\"middle\" x=\"382.0364\" y=\"-60.3788\" font-family=\"monospace\" font-size=\"8.00\" fill=\"#000000\">20</text>\n</g>\n<!-- 19&#45;&#45;15 -->\n<g id=\"edge31\" class=\"edge\">\n<title>19&#45;&#45;15</title>\n<path fill=\"none\" stroke=\"#c0c0c0\" d=\"M366.0287,-17.0105C352.5535,-16.2599 334.6568,-15.2632 321.2047,-14.5139\"/>\n<text text-anchor=\"middle\" x=\"338.1167\" y=\"-18.3622\" font-family=\"monospace\" font-size=\"8.00\" fill=\"#000000\">10</text>\n</g>\n</g>\n</svg>\n"
          },
          "metadata": {},
          "execution_count": 25
        }
      ]
    },
    {
      "cell_type": "code",
      "source": [
        "calles = {}#Diccionario donde se el nombre de la calle y su respectivo valor\n",
        "for i in range(callesH + callesV):\n",
        "  calles[str('CALLE' + str(i + 1))] = i + 1\n",
        "print(calles)"
      ],
      "metadata": {
        "colab": {
          "base_uri": "https://localhost:8080/"
        },
        "id": "1X2wTOlirRiy",
        "outputId": "0482b337-e8b7-4d2c-d89f-6f24f6062936"
      },
      "execution_count": null,
      "outputs": [
        {
          "output_type": "stream",
          "name": "stdout",
          "text": [
            "{'CALLE1': 1, 'CALLE2': 2, 'CALLE3': 3, 'CALLE4': 4, 'CALLE5': 5, 'CALLE6': 6, 'CALLE7': 7, 'CALLE8': 8, 'CALLE9': 9}\n"
          ]
        }
      ]
    },
    {
      "cell_type": "code",
      "source": [
        "def getID(calle1, calle2):#Funcion para obtener las calles de interseccion con solo tener el id\n",
        "  if calle1 not in calles:\n",
        "    return -1#No existe calle1\n",
        "  if calle2 not in calles:\n",
        "    return -2#No existe calle2\n",
        "  c1 = calles[calle1]\n",
        "  c2 = calles[calle2]\n",
        "  if c2 > callesH and c1 <= callesH or c1 > callesH and c2 <= callesH:\n",
        "    if c1 < c2:\n",
        "      id = callesV * (c1 - 1) + (c2 - callesH)\n",
        "    else:\n",
        "      id = callesV * (c2 - 1) + (c1 - callesH)\n",
        "    return id - 1\n",
        "  else:\n",
        "    return - 3#No existe interseccion entre ambas calles\n",
        "\n",
        "nombres = list(calles.keys())\n",
        "\n",
        "for i in range(len(nombres) - 1):\n",
        "  for j in range(i, len(nombres)):\n",
        "    id = getID(nombres[i],nombres[j])\n",
        "    print(nombres[i], 'con', nombres[j],': ', id) if id >= 0 else None"
      ],
      "metadata": {
        "id": "bdDW5B2p7hNb",
        "colab": {
          "base_uri": "https://localhost:8080/"
        },
        "outputId": "6aaf472f-b9e3-4fcc-fa68-769f5faf5b66"
      },
      "execution_count": null,
      "outputs": [
        {
          "output_type": "stream",
          "name": "stdout",
          "text": [
            "CALLE1 con CALLE6 :  0\n",
            "CALLE1 con CALLE7 :  1\n",
            "CALLE1 con CALLE8 :  2\n",
            "CALLE1 con CALLE9 :  3\n",
            "CALLE2 con CALLE6 :  4\n",
            "CALLE2 con CALLE7 :  5\n",
            "CALLE2 con CALLE8 :  6\n",
            "CALLE2 con CALLE9 :  7\n",
            "CALLE3 con CALLE6 :  8\n",
            "CALLE3 con CALLE7 :  9\n",
            "CALLE3 con CALLE8 :  10\n",
            "CALLE3 con CALLE9 :  11\n",
            "CALLE4 con CALLE6 :  12\n",
            "CALLE4 con CALLE7 :  13\n",
            "CALLE4 con CALLE8 :  14\n",
            "CALLE4 con CALLE9 :  15\n",
            "CALLE5 con CALLE6 :  16\n",
            "CALLE5 con CALLE7 :  17\n",
            "CALLE5 con CALLE8 :  18\n",
            "CALLE5 con CALLE9 :  19\n"
          ]
        }
      ]
    },
    {
      "cell_type": "code",
      "source": [
        "class Punto:#Obejtos que almacena las coordenadas y las calles de cada interseccion\n",
        "  def __init__(self, id, x, y, calle1, calle2):\n",
        "    self._id = id\n",
        "    self._x = x\n",
        "    self._y = y\n",
        "    self._calle1 = calle1\n",
        "    self._calle2 = calle2\n",
        "  def getId(self):\n",
        "    return self._id\n",
        "  def getX(self):\n",
        "    return self._x\n",
        "  def getY(self):\n",
        "    return self._y\n",
        "  def getCalle1(self):\n",
        "    return self._calle1\n",
        "  def getCalle2(self):\n",
        "    return self._calle2\n",
        "  def getInterseccion(self):\n",
        "    return self._calle1 + ' con ' + self._calle2\n",
        "  def __str__(self):\n",
        "    texto = 'id: ' + str(self._id) + \", x: \" + str(self._x) + ', y: ' + str(self._y) + ' ' + self.getInterseccion()\n",
        "    return texto\n",
        "puntos = []#Lista de Puntos\n",
        "cont = 0\n",
        "for i in range(len(ids)):\n",
        "  for j in range(len(ids[i])):\n",
        "    x = j*20\n",
        "    y = i*10\n",
        "    id = cont;\n",
        "    puntos.append(Punto(id, x, y, 'CALLE' + str(i+ 1), 'CALLE' + str(callesH + j + 1)))\n",
        "    cont += 1\n",
        "\n",
        "def getCalles(id):#Buscar las calles donde intersecta con solo tener el id\n",
        "  if id < 0 or id >= len(puntos):\n",
        "    return None\n",
        "  calle1 = puntos[id].getCalle1()\n",
        "  calle2 = puntos[id].getCalle2()\n",
        "  return (calle1, calle2)\n",
        "\n",
        "for i in range(-2,2):\n",
        "  print(getCalles(i))"
      ],
      "metadata": {
        "id": "fV9zfxEQrWYb",
        "colab": {
          "base_uri": "https://localhost:8080/"
        },
        "outputId": "69089db6-fd1f-40ad-89b6-66f0ebe94ab0"
      },
      "execution_count": null,
      "outputs": [
        {
          "output_type": "stream",
          "name": "stdout",
          "text": [
            "None\n",
            "None\n",
            "('CALLE1', 'CALLE6')\n",
            "('CALLE1', 'CALLE7')\n"
          ]
        }
      ]
    },
    {
      "cell_type": "code",
      "source": [
        "def distanciaManhattan(punto1, punto2):\n",
        "  distancia = abs(punto2.getX() - punto1.getX()) + abs(punto2.getY() - punto1.getY())\n",
        "  return distancia"
      ],
      "metadata": {
        "id": "k61HdyOY_2be"
      },
      "execution_count": null,
      "outputs": []
    },
    {
      "cell_type": "code",
      "source": [
        "def hallarRuta(grafo, inicio):\n",
        "  nodos = len(grafo)\n",
        "  visitados = [False] * nodos\n",
        "  camino = [-1] * nodos\n",
        "  costos = [math.inf] * nodos\n",
        "\n",
        "  costos[inicio] = 0\n",
        "  cola = [(0, inicio)]\n",
        "  while cola:\n",
        "    costoActual, nodo = hq.heappop(cola)\n",
        "    if not visitados[nodo]:\n",
        "      visitados[nodo] = True\n",
        "      for vecino, costo in grafo[nodo]:\n",
        "        if not visitados[vecino]:\n",
        "          costoTotal = costoActual + costo\n",
        "          if costoTotal < costos[vecino]:\n",
        "            costos[vecino] = costoTotal\n",
        "            camino[vecino] = nodo\n",
        "            hq.heappush(cola, (costoTotal, vecino))\n",
        "  return camino, costos\n"
      ],
      "metadata": {
        "id": "fYjsqoosXLBp"
      },
      "execution_count": null,
      "outputs": []
    },
    {
      "cell_type": "code",
      "source": [
        "path, cost = hallarRuta(G, 0)\n",
        "print(path)\n",
        "print(cost)\n",
        "drawG_al(G, weighted=True, path=path)"
      ],
      "metadata": {
        "colab": {
          "base_uri": "https://localhost:8080/",
          "height": 447
        },
        "id": "CIR_6RjaoT0V",
        "outputId": "e65457e1-185b-4f93-edbf-234edbec63a5"
      },
      "execution_count": null,
      "outputs": [
        {
          "output_type": "stream",
          "name": "stdout",
          "text": [
            "[-1, 0, 1, 2, 0, 4, 5, 6, 4, 8, 9, 10, 8, 12, 13, 14, 12, 16, 17, 18]\n",
            "[0, 20, 40, 60, 10, 30, 50, 70, 20, 40, 60, 80, 30, 50, 70, 90, 40, 60, 80, 100]\n"
          ]
        },
        {
          "output_type": "execute_result",
          "data": {
            "text/plain": [
              "<graphviz.dot.Graph at 0x7fb3ece24410>"
            ],
            "image/svg+xml": "<?xml version=\"1.0\" encoding=\"UTF-8\" standalone=\"no\"?>\n<!DOCTYPE svg PUBLIC \"-//W3C//DTD SVG 1.1//EN\"\n \"http://www.w3.org/Graphics/SVG/1.1/DTD/svg11.dtd\">\n<!-- Generated by graphviz version 2.40.1 (20161225.0304)\n -->\n<!-- Title: undirected Pages: 1 -->\n<svg width=\"417pt\" height=\"293pt\"\n viewBox=\"0.00 0.00 417.11 292.79\" xmlns=\"http://www.w3.org/2000/svg\" xmlns:xlink=\"http://www.w3.org/1999/xlink\">\n<g id=\"graph0\" class=\"graph\" transform=\"scale(1 1) rotate(0) translate(4 288.7903)\">\n<title>undirected</title>\n<polygon fill=\"#ffffff\" stroke=\"transparent\" points=\"-4,4 -4,-288.7903 413.1085,-288.7903 413.1085,4 -4,4\"/>\n<!-- 0 -->\n<g id=\"node1\" class=\"node\">\n<title>0</title>\n<ellipse fill=\"none\" stroke=\"#ff4500\" cx=\"389.215\" cy=\"-17.8493\" rx=\"15.6129\" ry=\"12.0417\"/>\n<text text-anchor=\"middle\" x=\"389.215\" y=\"-15.9493\" font-family=\"monospace\" font-size=\"8.00\" fill=\"#7b68ee\">0</text>\n</g>\n<!-- 1 -->\n<g id=\"node2\" class=\"node\">\n<title>1</title>\n<ellipse fill=\"none\" stroke=\"#ff4500\" cx=\"393.5144\" cy=\"-97.2428\" rx=\"15.6129\" ry=\"12.0417\"/>\n<text text-anchor=\"middle\" x=\"393.5144\" y=\"-95.3428\" font-family=\"monospace\" font-size=\"8.00\" fill=\"#7b68ee\">1</text>\n</g>\n<!-- 0&#45;&#45;1 -->\n<g id=\"edge1\" class=\"edge\">\n<title>0&#45;&#45;1</title>\n<path fill=\"none\" stroke=\"#ffa500\" stroke-width=\"2\" d=\"M389.868,-29.9075C390.512,-41.7988 391.5116,-60.2587 392.3015,-74.845\"/>\n<polygon fill=\"#ffa500\" stroke=\"#ffa500\" stroke-width=\"2\" points=\"388.8196,-75.275 392.8553,-85.0711 395.8093,-74.8965 388.8196,-75.275\"/>\n<text text-anchor=\"middle\" x=\"385.5848\" y=\"-54.9762\" font-family=\"monospace\" font-size=\"8.00\" fill=\"#000000\">20</text>\n</g>\n<!-- 4 -->\n<g id=\"node5\" class=\"node\">\n<title>4</title>\n<ellipse fill=\"none\" stroke=\"#ff4500\" cx=\"305.6172\" cy=\"-13.3987\" rx=\"15.6129\" ry=\"12.0417\"/>\n<text text-anchor=\"middle\" x=\"305.6172\" y=\"-11.4987\" font-family=\"monospace\" font-size=\"8.00\" fill=\"#7b68ee\">4</text>\n</g>\n<!-- 0&#45;&#45;4 -->\n<g id=\"edge4\" class=\"edge\">\n<title>0&#45;&#45;4</title>\n<path fill=\"none\" stroke=\"#ffa500\" stroke-width=\"2\" d=\"M373.4909,-17.0122C361.6976,-16.3843 345.2935,-15.511 331.5664,-14.7802\"/>\n<polygon fill=\"#ffa500\" stroke=\"#ffa500\" stroke-width=\"2\" points=\"331.4428,-11.2687 321.2708,-14.2321 331.0706,-18.2588 331.4428,-11.2687\"/>\n<text text-anchor=\"middle\" x=\"347.0287\" y=\"-18.4962\" font-family=\"monospace\" font-size=\"8.00\" fill=\"#000000\">10</text>\n</g>\n<!-- 2 -->\n<g id=\"node3\" class=\"node\">\n<title>2</title>\n<ellipse fill=\"none\" stroke=\"#ff4500\" cx=\"393.5521\" cy=\"-187.1882\" rx=\"15.6129\" ry=\"12.0417\"/>\n<text text-anchor=\"middle\" x=\"393.5521\" y=\"-185.2882\" font-family=\"monospace\" font-size=\"8.00\" fill=\"#7b68ee\">2</text>\n</g>\n<!-- 1&#45;&#45;2 -->\n<g id=\"edge2\" class=\"edge\">\n<title>1&#45;&#45;2</title>\n<path fill=\"none\" stroke=\"#ffa500\" stroke-width=\"2\" d=\"M393.5195,-109.3732C393.5254,-123.4553 393.5353,-146.9835 393.5426,-164.4888\"/>\n<polygon fill=\"#ffa500\" stroke=\"#ffa500\" stroke-width=\"2\" points=\"390.0427,-164.9642 393.547,-174.9627 397.0427,-164.9612 390.0427,-164.9642\"/>\n<text text-anchor=\"middle\" x=\"388.0311\" y=\"-139.531\" font-family=\"monospace\" font-size=\"8.00\" fill=\"#000000\">20</text>\n</g>\n<!-- 5 -->\n<g id=\"node6\" class=\"node\">\n<title>5</title>\n<ellipse fill=\"none\" stroke=\"#ff4500\" cx=\"307.7636\" cy=\"-95.5822\" rx=\"15.6129\" ry=\"12.0417\"/>\n<text text-anchor=\"middle\" x=\"307.7636\" y=\"-93.6822\" font-family=\"monospace\" font-size=\"8.00\" fill=\"#7b68ee\">5</text>\n</g>\n<!-- 1&#45;&#45;5 -->\n<g id=\"edge20\" class=\"edge\">\n<title>1&#45;&#45;5</title>\n<path fill=\"none\" stroke=\"#c0c0c0\" d=\"M377.7864,-96.9382C362.3142,-96.6386 338.8296,-96.1838 323.3919,-95.8849\"/>\n<text text-anchor=\"middle\" x=\"345.0891\" y=\"-99.0115\" font-family=\"monospace\" font-size=\"8.00\" fill=\"#000000\">10</text>\n</g>\n<!-- 3 -->\n<g id=\"node4\" class=\"node\">\n<title>3</title>\n<ellipse fill=\"none\" stroke=\"#ff4500\" cx=\"389.3136\" cy=\"-266.3798\" rx=\"15.6129\" ry=\"12.0417\"/>\n<text text-anchor=\"middle\" x=\"389.3136\" y=\"-264.4798\" font-family=\"monospace\" font-size=\"8.00\" fill=\"#7b68ee\">3</text>\n</g>\n<!-- 2&#45;&#45;3 -->\n<g id=\"edge3\" class=\"edge\">\n<title>2&#45;&#45;3</title>\n<path fill=\"none\" stroke=\"#ffa500\" stroke-width=\"2\" d=\"M392.9084,-199.2157C392.2736,-211.0767 391.2881,-229.4898 390.5094,-244.039\"/>\n<polygon fill=\"#ffa500\" stroke=\"#ffa500\" stroke-width=\"2\" points=\"387.003,-244.0663 389.9634,-254.2391 393.993,-244.4405 387.003,-244.0663\"/>\n<text text-anchor=\"middle\" x=\"386.2089\" y=\"-224.2273\" font-family=\"monospace\" font-size=\"8.00\" fill=\"#000000\">20</text>\n</g>\n<!-- 6 -->\n<g id=\"node7\" class=\"node\">\n<title>6</title>\n<ellipse fill=\"none\" stroke=\"#ff4500\" cx=\"307.9775\" cy=\"-189.0379\" rx=\"15.6129\" ry=\"12.0417\"/>\n<text text-anchor=\"middle\" x=\"307.9775\" y=\"-187.1379\" font-family=\"monospace\" font-size=\"8.00\" fill=\"#7b68ee\">6</text>\n</g>\n<!-- 2&#45;&#45;6 -->\n<g id=\"edge21\" class=\"edge\">\n<title>2&#45;&#45;6</title>\n<path fill=\"none\" stroke=\"#c0c0c0\" d=\"M377.8564,-187.5275C362.416,-187.8612 338.9796,-188.3678 323.5737,-188.7008\"/>\n<text text-anchor=\"middle\" x=\"345.2151\" y=\"-190.7141\" font-family=\"monospace\" font-size=\"8.00\" fill=\"#000000\">10</text>\n</g>\n<!-- 7 -->\n<g id=\"node8\" class=\"node\">\n<title>7</title>\n<ellipse fill=\"none\" stroke=\"#ff4500\" cx=\"305.9069\" cy=\"-271.2127\" rx=\"15.6129\" ry=\"12.0417\"/>\n<text text-anchor=\"middle\" x=\"305.9069\" y=\"-269.3127\" font-family=\"monospace\" font-size=\"8.00\" fill=\"#7b68ee\">7</text>\n</g>\n<!-- 3&#45;&#45;7 -->\n<g id=\"edge22\" class=\"edge\">\n<title>3&#45;&#45;7</title>\n<path fill=\"none\" stroke=\"#c0c0c0\" d=\"M373.6255,-267.2888C358.7137,-268.1529 336.4132,-269.445 321.5247,-270.3077\"/>\n<text text-anchor=\"middle\" x=\"342.0751\" y=\"-271.3983\" font-family=\"monospace\" font-size=\"8.00\" fill=\"#000000\">10</text>\n</g>\n<!-- 4&#45;&#45;5 -->\n<g id=\"edge5\" class=\"edge\">\n<title>4&#45;&#45;5</title>\n<path fill=\"none\" stroke=\"#ffa500\" stroke-width=\"2\" d=\"M305.9339,-25.5252C306.2605,-38.0285 306.7771,-57.8116 307.1783,-73.1711\"/>\n<polygon fill=\"#ffa500\" stroke=\"#ffa500\" stroke-width=\"2\" points=\"303.6856,-73.5008 307.4456,-83.406 310.6832,-73.318 303.6856,-73.5008\"/>\n<text text-anchor=\"middle\" x=\"301.0561\" y=\"-51.9481\" font-family=\"monospace\" font-size=\"8.00\" fill=\"#000000\">20</text>\n</g>\n<!-- 8 -->\n<g id=\"node9\" class=\"node\">\n<title>8</title>\n<ellipse fill=\"none\" stroke=\"#ff4500\" cx=\"206.1249\" cy=\"-12.0208\" rx=\"15.6129\" ry=\"12.0417\"/>\n<text text-anchor=\"middle\" x=\"206.1249\" y=\"-10.1208\" font-family=\"monospace\" font-size=\"8.00\" fill=\"#7b68ee\">8</text>\n</g>\n<!-- 4&#45;&#45;8 -->\n<g id=\"edge8\" class=\"edge\">\n<title>4&#45;&#45;8</title>\n<path fill=\"none\" stroke=\"#ffa500\" stroke-width=\"2\" d=\"M289.6321,-13.1773C274.0929,-12.9621 250.2321,-12.6317 231.9893,-12.379\"/>\n<polygon fill=\"#ffa500\" stroke=\"#ffa500\" stroke-width=\"2\" points=\"231.7899,-8.876 221.7424,-12.2371 231.6929,-15.8753 231.7899,-8.876\"/>\n<text text-anchor=\"middle\" x=\"255.3107\" y=\"-15.3782\" font-family=\"monospace\" font-size=\"8.00\" fill=\"#000000\">10</text>\n</g>\n<!-- 5&#45;&#45;6 -->\n<g id=\"edge6\" class=\"edge\">\n<title>5&#45;&#45;6</title>\n<path fill=\"none\" stroke=\"#ffa500\" stroke-width=\"2\" d=\"M307.7916,-107.7999C307.8257,-122.7022 307.884,-148.1849 307.9262,-166.6424\"/>\n<polygon fill=\"#ffa500\" stroke=\"#ffa500\" stroke-width=\"2\" points=\"304.4265,-166.8253 307.9495,-176.8172 311.4265,-166.8092 304.4265,-166.8253\"/>\n<text text-anchor=\"middle\" x=\"302.3589\" y=\"-139.8212\" font-family=\"monospace\" font-size=\"8.00\" fill=\"#000000\">20</text>\n</g>\n<!-- 9 -->\n<g id=\"node10\" class=\"node\">\n<title>9</title>\n<ellipse fill=\"none\" stroke=\"#ff4500\" cx=\"206.22\" cy=\"-95.1654\" rx=\"15.6129\" ry=\"12.0417\"/>\n<text text-anchor=\"middle\" x=\"206.22\" y=\"-93.2654\" font-family=\"monospace\" font-size=\"8.00\" fill=\"#7b68ee\">9</text>\n</g>\n<!-- 5&#45;&#45;9 -->\n<g id=\"edge23\" class=\"edge\">\n<title>5&#45;&#45;9</title>\n<path fill=\"none\" stroke=\"#c0c0c0\" d=\"M291.8974,-95.5171C272.8208,-95.4388 241.0016,-95.3082 221.9748,-95.2301\"/>\n<text text-anchor=\"middle\" x=\"251.4361\" y=\"-97.9736\" font-family=\"monospace\" font-size=\"8.00\" fill=\"#000000\">10</text>\n</g>\n<!-- 6&#45;&#45;7 -->\n<g id=\"edge7\" class=\"edge\">\n<title>6&#45;&#45;7</title>\n<path fill=\"none\" stroke=\"#ffa500\" stroke-width=\"2\" d=\"M307.672,-201.1631C307.3569,-213.6651 306.8585,-233.4461 306.4715,-248.8039\"/>\n<polygon fill=\"#ffa500\" stroke=\"#ffa500\" stroke-width=\"2\" points=\"302.9668,-248.9527 306.2136,-259.0378 309.9645,-249.1291 302.9668,-248.9527\"/>\n<text text-anchor=\"middle\" x=\"301.5717\" y=\"-227.5835\" font-family=\"monospace\" font-size=\"8.00\" fill=\"#000000\">20</text>\n</g>\n<!-- 10 -->\n<g id=\"node11\" class=\"node\">\n<title>10</title>\n<ellipse fill=\"none\" stroke=\"#ff4500\" cx=\"206.4591\" cy=\"-189.6194\" rx=\"19.1842\" ry=\"12.0417\"/>\n<text text-anchor=\"middle\" x=\"206.4591\" y=\"-187.7194\" font-family=\"monospace\" font-size=\"8.00\" fill=\"#7b68ee\">10</text>\n</g>\n<!-- 6&#45;&#45;10 -->\n<g id=\"edge24\" class=\"edge\">\n<title>6&#45;&#45;10</title>\n<path fill=\"none\" stroke=\"#c0c0c0\" d=\"M292.1152,-189.1288C274.1587,-189.2316 244.9091,-189.3992 225.6733,-189.5094\"/>\n<text text-anchor=\"middle\" x=\"253.3943\" y=\"-191.9191\" font-family=\"monospace\" font-size=\"8.00\" fill=\"#000000\">10</text>\n</g>\n<!-- 11 -->\n<g id=\"node12\" class=\"node\">\n<title>11</title>\n<ellipse fill=\"none\" stroke=\"#ff4500\" cx=\"206.5867\" cy=\"-272.7695\" rx=\"19.1842\" ry=\"12.0417\"/>\n<text text-anchor=\"middle\" x=\"206.5867\" y=\"-270.8695\" font-family=\"monospace\" font-size=\"8.00\" fill=\"#7b68ee\">11</text>\n</g>\n<!-- 7&#45;&#45;11 -->\n<g id=\"edge25\" class=\"edge\">\n<title>7&#45;&#45;11</title>\n<path fill=\"none\" stroke=\"#c0c0c0\" d=\"M289.9494,-271.4628C272.5119,-271.7361 244.5772,-272.174 225.9116,-272.4665\"/>\n<text text-anchor=\"middle\" x=\"252.4305\" y=\"-274.5647\" font-family=\"monospace\" font-size=\"8.00\" fill=\"#000000\">10</text>\n</g>\n<!-- 8&#45;&#45;9 -->\n<g id=\"edge9\" class=\"edge\">\n<title>8&#45;&#45;9</title>\n<path fill=\"none\" stroke=\"#ffa500\" stroke-width=\"2\" d=\"M206.1389,-24.2891C206.1535,-37.0114 206.1766,-57.1834 206.1944,-72.7597\"/>\n<polygon fill=\"#ffa500\" stroke=\"#ffa500\" stroke-width=\"2\" points=\"202.6947,-73.1212 206.2063,-83.1171 209.6947,-73.1131 202.6947,-73.1212\"/>\n<text text-anchor=\"middle\" x=\"200.6667\" y=\"-51.1244\" font-family=\"monospace\" font-size=\"8.00\" fill=\"#000000\">20</text>\n</g>\n<!-- 12 -->\n<g id=\"node13\" class=\"node\">\n<title>12</title>\n<ellipse fill=\"none\" stroke=\"#ff4500\" cx=\"106.8868\" cy=\"-13.6037\" rx=\"19.1842\" ry=\"12.0417\"/>\n<text text-anchor=\"middle\" x=\"106.8868\" y=\"-11.7037\" font-family=\"monospace\" font-size=\"8.00\" fill=\"#7b68ee\">12</text>\n</g>\n<!-- 8&#45;&#45;12 -->\n<g id=\"edge12\" class=\"edge\">\n<title>8&#45;&#45;12</title>\n<path fill=\"none\" stroke=\"#ffa500\" stroke-width=\"2\" d=\"M190.1806,-12.2751C175.7521,-12.5053 154.1307,-12.8501 136.5327,-13.1308\"/>\n<polygon fill=\"#ffa500\" stroke=\"#ffa500\" stroke-width=\"2\" points=\"136.1385,-9.6366 126.1957,-13.2957 136.2502,-16.6357 136.1385,-9.6366\"/>\n<text text-anchor=\"middle\" x=\"157.8566\" y=\"-15.303\" font-family=\"monospace\" font-size=\"8.00\" fill=\"#000000\">10</text>\n</g>\n<!-- 9&#45;&#45;10 -->\n<g id=\"edge10\" class=\"edge\">\n<title>9&#45;&#45;10</title>\n<path fill=\"none\" stroke=\"#ffa500\" stroke-width=\"2\" d=\"M206.2513,-107.5136C206.2898,-122.7294 206.3559,-148.8588 206.4033,-167.5558\"/>\n<polygon fill=\"#ffa500\" stroke=\"#ffa500\" stroke-width=\"2\" points=\"202.9032,-167.5758 206.4286,-177.5668 209.9032,-167.558 202.9032,-167.5758\"/>\n<text text-anchor=\"middle\" x=\"200.8273\" y=\"-140.1347\" font-family=\"monospace\" font-size=\"8.00\" fill=\"#000000\">20</text>\n</g>\n<!-- 13 -->\n<g id=\"node14\" class=\"node\">\n<title>13</title>\n<ellipse fill=\"none\" stroke=\"#ff4500\" cx=\"104.7759\" cy=\"-95.7\" rx=\"19.1842\" ry=\"12.0417\"/>\n<text text-anchor=\"middle\" x=\"104.7759\" y=\"-93.8\" font-family=\"monospace\" font-size=\"8.00\" fill=\"#7b68ee\">13</text>\n</g>\n<!-- 9&#45;&#45;13 -->\n<g id=\"edge26\" class=\"edge\">\n<title>9&#45;&#45;13</title>\n<path fill=\"none\" stroke=\"#c0c0c0\" d=\"M190.3694,-95.2489C172.426,-95.3435 143.1978,-95.4975 123.976,-95.5988\"/>\n<text text-anchor=\"middle\" x=\"151.6727\" y=\"-98.0239\" font-family=\"monospace\" font-size=\"8.00\" fill=\"#000000\">10</text>\n</g>\n<!-- 10&#45;&#45;11 -->\n<g id=\"edge11\" class=\"edge\">\n<title>10&#45;&#45;11</title>\n<path fill=\"none\" stroke=\"#ffa500\" stroke-width=\"2\" d=\"M206.4779,-201.8885C206.4975,-214.6116 206.5284,-234.7849 206.5523,-250.3622\"/>\n<polygon fill=\"#ffa500\" stroke=\"#ffa500\" stroke-width=\"2\" points=\"203.0528,-250.7258 206.5682,-260.7204 210.0528,-250.715 203.0528,-250.7258\"/>\n<text text-anchor=\"middle\" x=\"201.0151\" y=\"-228.7254\" font-family=\"monospace\" font-size=\"8.00\" fill=\"#000000\">20</text>\n</g>\n<!-- 14 -->\n<g id=\"node15\" class=\"node\">\n<title>14</title>\n<ellipse fill=\"none\" stroke=\"#ff4500\" cx=\"105.0477\" cy=\"-189.1807\" rx=\"19.1842\" ry=\"12.0417\"/>\n<text text-anchor=\"middle\" x=\"105.0477\" y=\"-187.2807\" font-family=\"monospace\" font-size=\"8.00\" fill=\"#7b68ee\">14</text>\n</g>\n<!-- 10&#45;&#45;14 -->\n<g id=\"edge27\" class=\"edge\">\n<title>10&#45;&#45;14</title>\n<path fill=\"none\" stroke=\"#c0c0c0\" d=\"M186.906,-189.5348C168.8332,-189.4566 142.1398,-189.3412 124.1969,-189.2635\"/>\n<text text-anchor=\"middle\" x=\"150.0514\" y=\"-191.9992\" font-family=\"monospace\" font-size=\"8.00\" fill=\"#000000\">10</text>\n</g>\n<!-- 15 -->\n<g id=\"node16\" class=\"node\">\n<title>15</title>\n<ellipse fill=\"none\" stroke=\"#ff4500\" cx=\"107.3249\" cy=\"-271.2977\" rx=\"19.1842\" ry=\"12.0417\"/>\n<text text-anchor=\"middle\" x=\"107.3249\" y=\"-269.3977\" font-family=\"monospace\" font-size=\"8.00\" fill=\"#7b68ee\">15</text>\n</g>\n<!-- 11&#45;&#45;15 -->\n<g id=\"edge28\" class=\"edge\">\n<title>11&#45;&#45;15</title>\n<path fill=\"none\" stroke=\"#c0c0c0\" d=\"M187.4481,-272.4857C169.9837,-272.2268 144.2951,-271.8459 126.7435,-271.5856\"/>\n<text text-anchor=\"middle\" x=\"151.5958\" y=\"-274.6357\" font-family=\"monospace\" font-size=\"8.00\" fill=\"#000000\">10</text>\n</g>\n<!-- 12&#45;&#45;13 -->\n<g id=\"edge13\" class=\"edge\">\n<title>12&#45;&#45;13</title>\n<path fill=\"none\" stroke=\"#ffa500\" stroke-width=\"2\" d=\"M106.5753,-25.7173C106.2542,-38.2074 105.746,-57.9694 105.3515,-73.3126\"/>\n<polygon fill=\"#ffa500\" stroke=\"#ffa500\" stroke-width=\"2\" points=\"101.8469,-73.45 105.0886,-83.5367 108.8446,-73.63 101.8469,-73.45\"/>\n<text text-anchor=\"middle\" x=\"100.4634\" y=\"-52.1149\" font-family=\"monospace\" font-size=\"8.00\" fill=\"#000000\">20</text>\n</g>\n<!-- 16 -->\n<g id=\"node17\" class=\"node\">\n<title>16</title>\n<ellipse fill=\"none\" stroke=\"#ff4500\" cx=\"23.4511\" cy=\"-18.2294\" rx=\"19.1842\" ry=\"12.0417\"/>\n<text text-anchor=\"middle\" x=\"23.4511\" y=\"-16.3294\" font-family=\"monospace\" font-size=\"8.00\" fill=\"#7b68ee\">16</text>\n</g>\n<!-- 12&#45;&#45;16 -->\n<g id=\"edge16\" class=\"edge\">\n<title>12&#45;&#45;16</title>\n<path fill=\"none\" stroke=\"#ffa500\" stroke-width=\"2\" d=\"M87.5353,-14.6765C77.2152,-15.2487 64.3026,-15.9646 52.7776,-16.6035\"/>\n<polygon fill=\"#ffa500\" stroke=\"#ffa500\" stroke-width=\"2\" points=\"52.4886,-13.1141 42.6977,-17.1623 52.8762,-20.1033 52.4886,-13.1141\"/>\n<text text-anchor=\"middle\" x=\"64.6564\" y=\"-18.24\" font-family=\"monospace\" font-size=\"8.00\" fill=\"#000000\">10</text>\n</g>\n<!-- 13&#45;&#45;14 -->\n<g id=\"edge14\" class=\"edge\">\n<title>13&#45;&#45;14</title>\n<path fill=\"none\" stroke=\"#ffa500\" stroke-width=\"2\" d=\"M104.8114,-107.921C104.8548,-122.8272 104.9289,-148.3167 104.9826,-166.7792\"/>\n<polygon fill=\"#ffa500\" stroke=\"#ffa500\" stroke-width=\"2\" points=\"101.483,-166.967 105.0122,-176.9567 108.483,-166.9465 101.483,-166.967\"/>\n<text text-anchor=\"middle\" x=\"99.397\" y=\"-139.9501\" font-family=\"monospace\" font-size=\"8.00\" fill=\"#000000\">20</text>\n</g>\n<!-- 17 -->\n<g id=\"node18\" class=\"node\">\n<title>17</title>\n<ellipse fill=\"none\" stroke=\"#ff4500\" cx=\"19.0919\" cy=\"-97.3852\" rx=\"19.1842\" ry=\"12.0417\"/>\n<text text-anchor=\"middle\" x=\"19.0919\" y=\"-95.4852\" font-family=\"monospace\" font-size=\"8.00\" fill=\"#7b68ee\">17</text>\n</g>\n<!-- 13&#45;&#45;17 -->\n<g id=\"edge29\" class=\"edge\">\n<title>13&#45;&#45;17</title>\n<path fill=\"none\" stroke=\"#c0c0c0\" d=\"M85.3328,-96.0824C71.3101,-96.3582 52.463,-96.7289 38.458,-97.0043\"/>\n<text text-anchor=\"middle\" x=\"56.3954\" y=\"-99.1433\" font-family=\"monospace\" font-size=\"8.00\" fill=\"#000000\">10</text>\n</g>\n<!-- 14&#45;&#45;15 -->\n<g id=\"edge15\" class=\"edge\">\n<title>14&#45;&#45;15</title>\n<path fill=\"none\" stroke=\"#ffa500\" stroke-width=\"2\" d=\"M105.3837,-201.2973C105.7302,-213.7906 106.2783,-233.5577 106.7039,-248.9047\"/>\n<polygon fill=\"#ffa500\" stroke=\"#ffa500\" stroke-width=\"2\" points=\"103.2116,-249.2323 106.9875,-259.1314 110.2089,-249.0382 103.2116,-249.2323\"/>\n<text text-anchor=\"middle\" x=\"100.5438\" y=\"-227.701\" font-family=\"monospace\" font-size=\"8.00\" fill=\"#000000\">20</text>\n</g>\n<!-- 18 -->\n<g id=\"node19\" class=\"node\">\n<title>18</title>\n<ellipse fill=\"none\" stroke=\"#ff4500\" cx=\"19.3462\" cy=\"-187.4528\" rx=\"19.1842\" ry=\"12.0417\"/>\n<text text-anchor=\"middle\" x=\"19.3462\" y=\"-185.5528\" font-family=\"monospace\" font-size=\"8.00\" fill=\"#7b68ee\">18</text>\n</g>\n<!-- 14&#45;&#45;18 -->\n<g id=\"edge30\" class=\"edge\">\n<title>14&#45;&#45;18</title>\n<path fill=\"none\" stroke=\"#c0c0c0\" d=\"M85.6007,-188.7886C71.5752,-188.5058 52.7241,-188.1257 38.7163,-187.8433\"/>\n<text text-anchor=\"middle\" x=\"56.6585\" y=\"-190.9159\" font-family=\"monospace\" font-size=\"8.00\" fill=\"#000000\">10</text>\n</g>\n<!-- 16&#45;&#45;17 -->\n<g id=\"edge17\" class=\"edge\">\n<title>16&#45;&#45;17</title>\n<path fill=\"none\" stroke=\"#ffa500\" stroke-width=\"2\" d=\"M22.789,-30.2514C22.1361,-42.1071 21.1226,-60.5119 20.3217,-75.0544\"/>\n<polygon fill=\"#ffa500\" stroke=\"#ffa500\" stroke-width=\"2\" points=\"16.8155,-75.0726 19.7602,-85.25 23.8049,-75.4576 16.8155,-75.0726\"/>\n<text text-anchor=\"middle\" x=\"16.0554\" y=\"-55.2529\" font-family=\"monospace\" font-size=\"8.00\" fill=\"#000000\">20</text>\n</g>\n<!-- 17&#45;&#45;18 -->\n<g id=\"edge18\" class=\"edge\">\n<title>17&#45;&#45;18</title>\n<path fill=\"none\" stroke=\"#ffa500\" stroke-width=\"2\" d=\"M19.1262,-109.5321C19.166,-123.6333 19.2325,-147.1935 19.2821,-164.7225\"/>\n<polygon fill=\"#ffa500\" stroke=\"#ffa500\" stroke-width=\"2\" points=\"15.7834,-165.2206 19.3117,-175.2107 22.7833,-165.2008 15.7834,-165.2206\"/>\n<text text-anchor=\"middle\" x=\"13.7041\" y=\"-139.7273\" font-family=\"monospace\" font-size=\"8.00\" fill=\"#000000\">20</text>\n</g>\n<!-- 19 -->\n<g id=\"node20\" class=\"node\">\n<title>19</title>\n<ellipse fill=\"none\" stroke=\"#ff4500\" cx=\"23.8759\" cy=\"-266.7369\" rx=\"19.1842\" ry=\"12.0417\"/>\n<text text-anchor=\"middle\" x=\"23.8759\" y=\"-264.8369\" font-family=\"monospace\" font-size=\"8.00\" fill=\"#7b68ee\">19</text>\n</g>\n<!-- 18&#45;&#45;19 -->\n<g id=\"edge19\" class=\"edge\">\n<title>18&#45;&#45;19</title>\n<path fill=\"none\" stroke=\"#ffa500\" stroke-width=\"2\" d=\"M20.0342,-199.4943C20.7127,-211.3692 21.7659,-229.8038 22.5981,-244.3699\"/>\n<polygon fill=\"#ffa500\" stroke=\"#ffa500\" stroke-width=\"2\" points=\"19.1167,-244.7979 23.1815,-254.582 26.1053,-244.3986 19.1167,-244.7979\"/>\n<text text-anchor=\"middle\" x=\"15.8161\" y=\"-224.5321\" font-family=\"monospace\" font-size=\"8.00\" fill=\"#000000\">20</text>\n</g>\n<!-- 19&#45;&#45;15 -->\n<g id=\"edge31\" class=\"edge\">\n<title>19&#45;&#45;15</title>\n<path fill=\"none\" stroke=\"#c0c0c0\" d=\"M43.2306,-267.7947C56.7119,-268.5315 74.6169,-269.5101 88.0752,-270.2457\"/>\n<text text-anchor=\"middle\" x=\"60.1529\" y=\"-271.6202\" font-family=\"monospace\" font-size=\"8.00\" fill=\"#000000\">10</text>\n</g>\n</g>\n</svg>\n"
          },
          "metadata": {},
          "execution_count": 31
        }
      ]
    },
    {
      "cell_type": "code",
      "source": [
        "callesH = 29\n",
        "callesV = 28\n",
        "cuadras = (callesH - 1) * callesV + (callesV - 1) * callesH\n",
        "print(cuadras)\n"
      ],
      "metadata": {
        "colab": {
          "base_uri": "https://localhost:8080/"
        },
        "id": "e5v6NhIH3utB",
        "outputId": "f89cf748-339f-4db7-edbc-0e78743bdfb7"
      },
      "execution_count": null,
      "outputs": [
        {
          "output_type": "stream",
          "name": "stdout",
          "text": [
            "1567\n"
          ]
        }
      ]
    },
    {
      "cell_type": "code",
      "source": [
        "callesH = 29\n",
        "callesV = 28\n",
        "ids = []\n",
        "cont = 0\n",
        "\n",
        "for i in range(callesH):\n",
        "    tmp = []\n",
        "    for j in range(callesV):\n",
        "        tmp.append(cont)\n",
        "        cont += 1\n",
        "    ids.append(tmp)\n",
        "matriz = []\n",
        "cont = 0\n",
        "for i in range(len(ids)):\n",
        "    for j in range(len(ids[i])):\n",
        "        vecinos = []\n",
        "        id = ids[i][j]\n",
        "        if id - callesV >= 0:\n",
        "            vecinos.append((id - callesV, 10))\n",
        "        if id + callesV < ids[callesH - 1][callesV - 1]:\n",
        "            vecinos.append((id + callesV, 10))\n",
        "        if id % callesV != 0 and (id + 1) % callesV != 0 or (id + 1) % callesV != 0 and id % callesV != 0:\n",
        "            vecinos.append((id - 1, 10))\n",
        "            vecinos.append((id + 1, 10))\n",
        "        else:\n",
        "            if id % callesV == 0:\n",
        "                vecinos.append((id + 1, 10))\n",
        "            elif (id + 1) % callesV == 0:\n",
        "                vecinos.append((id - 1, 10))\n",
        "        vecinos.sort()\n",
        "        matriz.append(vecinos)\n",
        "\n",
        "with open('grafo.al', mode='w') as file:\n",
        "  for i in matriz:\n",
        "    for j in i:\n",
        "      file.write(str(str(j[0]) + ' ' + str(j[1]) + ' '))\n",
        "    file.write('\\n')\n"
      ],
      "metadata": {
        "id": "TSrFTsIx9GHE"
      },
      "execution_count": null,
      "outputs": []
    },
    {
      "cell_type": "code",
      "source": [
        "G = []\n",
        "with open(\"grafo.al\") as f:\n",
        "  for line in f:\n",
        "    nums = [int(x) for x in line.split()]\n",
        "    G.append([])\n",
        "    for i in range(0, len(nums), 2):\n",
        "      G[-1].append((nums[i], nums[i+1]))\n",
        "\n",
        "for x in G:\n",
        "  print(x)"
      ],
      "metadata": {
        "id": "CHR0YdZA9YoA"
      },
      "execution_count": null,
      "outputs": []
    },
    {
      "cell_type": "code",
      "source": [
        "drawG_al(G, weighted=True)\n",
        "#Se ve feo cuando tiene muchas cuadras"
      ],
      "metadata": {
        "id": "bY4y7ARS8Dtn"
      },
      "execution_count": null,
      "outputs": []
    },
    {
      "cell_type": "code",
      "source": [
        "for i in ids:\n",
        "  print(i)"
      ],
      "metadata": {
        "id": "_VmQKE2i-8Ov"
      },
      "execution_count": null,
      "outputs": []
    },
    {
      "cell_type": "code",
      "source": [
        ""
      ],
      "metadata": {
        "id": "vfWfwGGJBIVi"
      },
      "execution_count": null,
      "outputs": []
    }
  ]
}